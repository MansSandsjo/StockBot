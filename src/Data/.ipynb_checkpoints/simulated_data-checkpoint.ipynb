{
 "cells": [
  {
   "cell_type": "markdown",
   "metadata": {},
   "source": [
    "# Simulated data created by Manu Upadhyaya\n",
    "\n",
    "## Generating returns\n",
    "\n",
    "Let $P_{i,t}$ denote the price of asset $i=1,\\ldots,N$, which pays no divides, at times $t=0,\\ldots,T$. \n",
    "\n",
    "The _simple net return_, $R_{i,t}$, between the times $t-1$ and $t$, for asset $i$, is defined as\n",
    "$$\n",
    "R_{i,t} = \\frac{P_{i,t}-P_{i,t-1}}{P_{i,t-1}} =  \\frac{P_{i,t}}{P_{i,t-1}} - 1, \\quad \\forall i=1,\\ldots,N \\text{ and } \\forall t = 1,\\ldots,T.\n",
    "$$\n",
    "\n",
    "The _simple gross return_ on asset $i$ at time $t$ is defined as \n",
    "$$\n",
    "1+R_{i,t} = \\frac{P_{i,t}}{P_{i,t-1}}, \\quad \\forall i=1,\\ldots,N \\text{ and } \\forall t = 1,\\ldots,T.\n",
    "$$\n",
    "\n",
    "The _continuousy compunded return_ or _log return_, $r_{i,t}$, on asset $i$ at time $t$ is defined as the natural logarithm of the simple gross return, i.e.\n",
    "$$\n",
    "r_{i,t} = \\ln(1+R_{i,t}) = \\ln \\left(\\frac{P_{i,t}}{P_{i,t-1}}\\right), \\quad \\forall i=1,\\ldots,N \\text{ and } \\forall t = 1,\\ldots,T.\n",
    "$$\n",
    "\n",
    "Let \n",
    "$$\n",
    "P_{t} = \n",
    "\\begin{bmatrix}\n",
    "P_{1,t} \\\\\n",
    "\\vdots \\\\\n",
    "P_{N,t} \\\\\n",
    "\\end{bmatrix}, \\quad \\forall t = 0,\\ldots,T, \\\\\n",
    "R_{t}=\n",
    "\\begin{bmatrix}\n",
    "R_{1,t} \\\\\n",
    "\\vdots \\\\\n",
    "R_{N,t} \\\\\n",
    "\\end{bmatrix}, \\quad \\forall t = 1,\\ldots,T, \\\\\n",
    "r_{t}=\n",
    "\\begin{bmatrix}\n",
    "r_{1,t} \\\\\n",
    "\\vdots \\\\\n",
    "r_{N,t} \\\\\n",
    "\\end{bmatrix}, \\quad \\forall t = 1,\\ldots,T.\n",
    "$$\n",
    "---\n",
    "The following code gererates simulated log returns $r_{t}$ such that\n",
    "$$\n",
    "r_{t} \\stackrel{\\text{iid}}{\\sim} \\mathcal{N}\\left(\\tilde{\\mu},\\tilde{\\Sigma}\\right),\\quad \\forall t=1,\\ldots,T\n",
    "$$\n",
    "for some randomly chosen $\\tilde{\\mu}\\in\\mathbb{R}^{N}$ and $\\tilde{\\Sigma}\\in\\mathbb{S}_{++}^{N}$."
   ]
  },
  {
   "cell_type": "code",
   "execution_count": 1,
   "metadata": {},
   "outputs": [],
   "source": [
    "import numpy as np\n",
    "from numpy.random import default_rng\n",
    "rng = default_rng(1)\n",
    "\n",
    "T = 2000 # number of trading periods.\n",
    "N = 30 # number of stocks\n",
    "\n",
    "mu_tilde = 0.0001*(rng.random(N)-0.5)\n",
    "temp = rng.normal(0,0.01,(N,N))\n",
    "Sigma_tilde = 0.01 * (temp.T @ temp + 0.0001 * np.eye(N))\n",
    "r = rng.multivariate_normal(mu_tilde,Sigma_tilde,T)"
   ]
  },
  {
   "cell_type": "markdown",
   "metadata": {},
   "source": [
    "Typically, you do not have access to $\\tilde\\mu$ and $\\tilde\\Sigma$, i.e. these model parameters need to be estimated directly or indirectly. More fundamentally, assuming iid normality on the log returns is computationally tractable, but not necessarily true empirically. \n",
    "\n",
    "--- \n",
    "\n",
    "The following code calculates the simple net returns $R_{t}$"
   ]
  },
  {
   "cell_type": "code",
   "execution_count": 2,
   "metadata": {},
   "outputs": [],
   "source": [
    "R = np.exp(r) - 1"
   ]
  },
  {
   "cell_type": "markdown",
   "metadata": {},
   "source": [
    "The expected simple net return $\\mu=\\operatorname{\\mathbb{E}}[ R_{t}]\\in\\mathbb{R}^{N}$ and the covariance matrix of the simple net return $\\Sigma=\\operatorname{Var}[ R_{t}]\\in\\mathbb{S}_{++}^{N}$ are given by \n",
    "$$\n",
    "\\mu_i=\\exp\\left(\\tilde\\mu_i+\\frac{1}{2}\\tilde\\Sigma_{ii}\\right)-1,\\quad \\forall i = 1,\\ldots,N \\text{ and }\\forall t=1,\\ldots,T\n",
    "$$\n",
    "and\n",
    "$$\n",
    "\\Sigma_{ij}=\\exp\\left(\\tilde\\mu_i+\\tilde\\mu_j + \\frac{1}{2}\\left(\\tilde\\Sigma_{ii}+\\tilde\\Sigma_{jj}\\right) \\right)\\left( \\exp\\left(\\tilde\\Sigma_{ij}\\right) - 1\\right),\\quad \\forall i,j = 1,\\ldots,N \\text{ and }\\forall t=1,\\ldots,T\n",
    "$$\n",
    "respectively (show this if you want to). These quantities are calculated below."
   ]
  },
  {
   "cell_type": "code",
   "execution_count": 3,
   "metadata": {},
   "outputs": [],
   "source": [
    "mu_old= np.exp(mu_tilde + 0.5 * np.diag(Sigma_tilde)) - 1\n",
    "Sigma = np.exp(mu_tilde.reshape(N, 1) @ np.ones((1,N))\n",
    "               + np.ones((N,1)) @ mu_tilde.reshape(1, N)\n",
    "               + 0.5 * np.diag(Sigma_tilde).reshape(N, 1) @ np.ones((1,N))\n",
    "               + 0.5 * np.ones((N,1)) @ np.diag(Sigma_tilde).reshape(1, N)\n",
    "              ) * np.exp(Sigma_tilde-1)"
   ]
  },
  {
   "cell_type": "markdown",
   "metadata": {},
   "source": [
    "If we wish, we can generate a price time series $P_{t}$ as below."
   ]
  },
  {
   "cell_type": "code",
   "execution_count": 4,
   "metadata": {},
   "outputs": [],
   "source": [
    "P_0 = rng.integers(low=100, high=1000, size=N)\n",
    "P = np.ndarray((T+1,N))\n",
    "P[0,:] = P_0\n",
    "for t in range(T):\n",
    "    P[t+1,:] = (R[t,:]+1)*P[t,:]"
   ]
  },
  {
   "cell_type": "markdown",
   "metadata": {},
   "source": [
    "Below is a simple figure showing the prices $P_{t}$."
   ]
  },
  {
   "cell_type": "code",
   "execution_count": null,
   "metadata": {},
   "outputs": [],
   "source": [
    "from matplotlib import pyplot as plt\n",
    "%matplotlib inline\n",
    "fig, axes = plt.subplots()\n",
    "axes.plot(P)\n",
    "axes.set_xlabel('time, t')\n",
    "axes.set_ylabel('prices')\n",
    "axes.set_title('Price chart, simulated data');"
   ]
  },
  {
   "cell_type": "code",
   "execution_count": null,
   "metadata": {},
   "outputs": [],
   "source": []
  },
  {
   "cell_type": "markdown",
   "metadata": {},
   "source": [
    "However, we are not primarily intrested in the prices $P_{t}$, but rather the returns $R_{t}$."
   ]
  }
 ],
 "metadata": {
  "kernelspec": {
   "display_name": "Python 3",
   "language": "python",
   "name": "python3"
  },
  "language_info": {
   "codemirror_mode": {
    "name": "ipython",
    "version": 3
   },
   "file_extension": ".py",
   "mimetype": "text/x-python",
   "name": "python",
   "nbconvert_exporter": "python",
   "pygments_lexer": "ipython3",
   "version": "3.7.3"
  }
 },
 "nbformat": 4,
 "nbformat_minor": 4
}
