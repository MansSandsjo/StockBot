{
 "cells": [
  {
   "cell_type": "markdown",
   "metadata": {},
   "source": [
    "# Optimization problem\n",
    "we would like to maximise \n",
    "$$\n",
    "\\operatorname{\\mathbb{E}_{t}}[R_{t}^{P}] - \\gamma \\operatorname{Var_{t}}[R_{t}^{P}]\n",
    "$$\n",
    "with respect to $z_{t}$, under the contraint that $\\mathbb{1}^{T}z_{t}=0$. Here, $\\gamma$, a _risk aversion parameter_ , with value $\\gamma = 1/2$.\n",
    "\n",
    "In addition, we would like to add the no short-sale constraint \n",
    "$$\n",
    "w_{t}+z_{t} \\geq 0.\n",
    "$$ \n",
    "\n",
    "Hence, we would like to pick the $z_{t}$ that solves the optimization problem\n",
    "$$\n",
    "\\begin{equation}\n",
    "\\begin{aligned}\n",
    "& \\underset{z_{t}\\in\\mathbb{R}^{n}}{\\mathrm{maximize}}\n",
    "& & R_{t|t}^{T}z_{t} - \\gamma (w_{t}+z_{t})^{T}\\Sigma_{t|t}(w_{t}+z_{t}) \\\\\n",
    "& \\text{subject to}\n",
    "& &  \\mathbb{1}^{T}z_{t}=0, \\\\\n",
    "& & &  w_{t}+z_{t} \\geq 0, \\\\\n",
    "\\end{aligned}\n",
    "\\end{equation}\n",
    "$$\n",
    "\n",
    "for each time $t=1\\ldots,T$. However, $R_{t|t}$ and $\\Sigma_{t|t}$ are typically not know, but can be replaced by approprate estimates $\\hat R_{t|t}$ and $\\hat\\Sigma_{t|t}$, respectively. Thus, we arrive at the final problem \n",
    "$$\n",
    "\\begin{equation}\n",
    "\\begin{aligned}\n",
    "& \\underset{z_{t}\\in\\mathbb{R}^{n}}{\\mathrm{maximize}}\n",
    "& & \\hat R_{t|t}^{T}z_{t} - \\gamma (w_{t}+z_{t})^{T}\\hat\\Sigma_{t|t}(w_{t}+z_{t}) \\\\\n",
    "& \\text{subject to}\n",
    "& &  \\mathbb{1}^{T}z_{t}=0, \\\\\n",
    "& & &  w_{t}+z_{t} \\geq 0, \\\\\n",
    "\\end{aligned}\n",
    "\\end{equation}\n",
    "$$\n",
    "that needs to be solved for each time $t=1\\ldots,T$.\n"
   ]
  },
  {
   "cell_type": "code",
   "execution_count": 3,
   "metadata": {},
   "outputs": [
    {
     "name": "stdout",
     "output_type": "stream",
     "text": [
      "/Users/manssandsjo/Documents/GitHub/StockBot/group-b/src/Data\n",
      "1.9404761904761905\n"
     ]
    }
   ],
   "source": [
    "import os\n",
    "import numpy as np\n",
    "import pandas as pd\n",
    "import pickle\n",
    "\n",
    "os.chdir(os.path.pardir)\n",
    "%cd Data\n",
    "import investPyData as omxs30\n",
    "Rpd, N = omxs30.import_omxs30() # N number of stocks, R return between two days\n",
    "\n",
    "\n",
    "T = len(Rpd)\n",
    "R=Rpd.to_numpy()\n",
    "print(T/252)"
   ]
  },
  {
   "cell_type": "code",
   "execution_count": 4,
   "metadata": {},
   "outputs": [],
   "source": [
    "import cvxpy as cvx\n",
    "import mosek\n",
    "\n",
    "def SPO_mark(hat_R, hat_Sigma, weights, gamma):\n",
    "    z = cvx.Variable(N)\n",
    "    expected_netReturn = hat_R.T @ z # for each stock, depends on how \n",
    "    expected_risk = gamma*cvx.quad_form(weights + z, hat_Sigma) # weights.T * hat_Sigma * weights\n",
    "    \n",
    "    utility = expected_netReturn - expected_risk\n",
    "    objective = cvx.Maximize(utility)\n",
    "\n",
    "    constraints = [\n",
    "        cvx.sum(z) == 0, # difference in weights sums up to 0 – portfolio stays fully invested\n",
    "        weights + z >= 0, # no short sales\n",
    "        weights + z <= 0.3 # no more than 30% in an asset\n",
    "    ] \n",
    "    prob = cvx.Problem(objective, constraints)\n",
    "    prob.solve(solver=cvx.MOSEK)\n",
    "    \n",
    "    return z.value #change of weights"
   ]
  },
  {
   "cell_type": "markdown",
   "metadata": {},
   "source": [
    "## Function to loop convex optimization for each day of the period"
   ]
  },
  {
   "cell_type": "code",
   "execution_count": 5,
   "metadata": {
    "scrolled": true
   },
   "outputs": [],
   "source": [
    "def loop_optimization(calc_mu, Sigma_func, SigmaHyper, gamma):\n",
    "    totValue = np.empty(T+1)\n",
    "    totValue[0] = 1E6\n",
    "    weights = np.ones(N)/N # starting with 1/30 invested in all stocks\n",
    "    R_P = np.zeros(T) # portfolio realized return - fractional increase of portfolio return over the period\n",
    "    muTemp = R[0,:] # use the old mu value the first period of optimization & when not predicting return\n",
    "    sigma = Sigma_func(1, SigmaHyper)\n",
    "    \n",
    "    z = SPO_mark(muTemp, sigma, weights, gamma)# tSigma_func is the cov matrix of the expected returns\n",
    "    R_P[0] = R[0].T @ (weights + z)\n",
    "    totValue[1] = totValue[0] * (1 + R_P[0]) # total value of the whole portfolio\n",
    "    turnover = np.linalg.norm(z,ord=1)/2\n",
    "    \n",
    "    # Iterate over the whole period T and calculate the change of weights by maximazing\n",
    "    # the risk adjusted return of each period\n",
    "    for t in range (T-1):\n",
    "        \n",
    "        muTemp = calc_mu[t,:]\n",
    "        #estimate the cov matrix for day t\n",
    "        sigma = Sigma_func(t, SigmaHyper)\n",
    "        # solve the convex optimization problem for each day\n",
    "        weights =  (1 + R[t])*(weights + z) / (1+R_P[t]) # next period weights Boyd (2.11)\n",
    "        z = SPO_mark(muTemp, sigma, weights, gamma) #c\n",
    "\n",
    "        turnover += np.linalg.norm(z ,ord=1)/2\n",
    "        R_P[t+1] = R[t+1].T @ (weights + z) # calc the actual return from the new calc weights\n",
    "        totValue[t+2] = totValue[t+1] * (1 + R_P[t+1])\n",
    "    return totValue, turnover, R_P, weights"
   ]
  },
  {
   "cell_type": "markdown",
   "metadata": {},
   "source": [
    "# Performance metrics\n",
    "Annualized average turnover is calculated by:\n",
    "$$\n",
    "\\begin{equation}\n",
    "\\frac{250}{T} \\sum_{t=1}^{T}\\left\\|\\left(z_{t}\\right)_{1: n}\\right\\|_{1} / 2\n",
    "\\end{equation}\n",
    "$$\n",
    "\n",
    "The _post-trade total value_ of the portfolio, in SEK, given exactly at the beginning of time period $t$, is just $v_{t}$, since\n",
    "$$\n",
    "\\mathbb{1}^{T}h_{t}^{+} = \\mathbb{1}^{T}(h_{t} + u_{t}) = \\mathbb{1}^{T}h_{t} + \\mathbb{1}^{T} u_{t} = \\mathbb{1}^{T}h_{t} = v_{t}, \\quad \\forall t = 1,\\ldots,T.\n",
    "$$\n",
    "\n",
    "Assuming that the risk-free rate is zero, the annualized sharpe ratio is given by:\n",
    "$$\n",
    "SR = \\frac{\\overline{R^{P}_{t}}}{\\widehat{\\sigma}^{P}}.\n",
    "$$"
   ]
  },
  {
   "cell_type": "code",
   "execution_count": 6,
   "metadata": {},
   "outputs": [],
   "source": [
    "# function to plot and print the portfolio data\n",
    "from matplotlib import pyplot as plt\n",
    "\n",
    "def plot_n_printPortfolio(totValuePrint, turnoverPrint, R_Pprint, name, weightsPrint):\n",
    "    an_turnover = (turnoverPrint/T)*252 # approx 252 trading days in a year\n",
    "\n",
    "    print('\\033[1m'+name+'\\033[0m')\n",
    "    print('Turnover:',an_turnover.round(6)); print('Total value of portfolio:', totValuePrint[T].round())\n",
    "    \n",
    "    #plot the total value of the portfolio over time T\n",
    "    fig, axes = plt.subplots()\n",
    "    years = np.arange(T+1)/252\n",
    "    axes.plot(years, totValuePrint)\n",
    "    axes.set_xlabel('Year')\n",
    "    axes.set_ylabel('SEK')\n",
    "    axes.set_title(name);\n",
    "\n",
    "\n",
    "    # print the sharpe ratio\n",
    "    # annualized average of returns\n",
    "    averageRe = np.mean(R_Pprint)*252\n",
    "    # annualized standard deviation of returns\n",
    "    stdSigma = np.std(R_Pprint)*np.sqrt(252)\n",
    "    sharpeRatio_an = (averageRe/stdSigma)\n",
    "    print('Sharpe Ratio:', sharpeRatio_an.round(6)); print('Weights at end of period', weightsPrint.round(4))"
   ]
  },
  {
   "cell_type": "code",
   "execution_count": 7,
   "metadata": {},
   "outputs": [],
   "source": [
    "def hyperMetrics(totValuePrint, turnoverPrint, R_Pprint):\n",
    "    an_turnover = (turnoverPrint/T)*252 # approx 252 trading days in a year\n",
    "\n",
    "    # annualized average of returns\n",
    "    averageRe = np.mean(R_Pprint)*252\n",
    "    # annualized standard deviation of returns\n",
    "    stdSigma = np.std(R_Pprint)*np.sqrt(252)\n",
    "    sharpeRatio_an = (averageRe/stdSigma)\n",
    "    return an_turnover, sharpeRatio_an"
   ]
  },
  {
   "cell_type": "markdown",
   "metadata": {},
   "source": [
    "## Simple Covariance Matrix"
   ]
  },
  {
   "cell_type": "code",
   "execution_count": 8,
   "metadata": {},
   "outputs": [],
   "source": [
    "def covariance_calc_v1(t, T_SCM):\n",
    "    R_Sigma = R.copy()\n",
    "    Sigma = np.zeros((N,N))\n",
    "    \n",
    "    if t-T_SCM < 0:\n",
    "            Sigma = np.dot(R_Sigma[t-1].reshape((N,1)),R_Sigma[t-1].reshape((1,N)))\n",
    "            return Sigma\n",
    "    \n",
    "    for i in range (t-T_SCM,t):\n",
    "        \n",
    "        Sigma += np.dot(R_Sigma[i].reshape((N,1)),R_Sigma[i].reshape((1,N)))\n",
    "    Sigma = Sigma/T_SCM\n",
    "    return Sigma"
   ]
  },
  {
   "cell_type": "markdown",
   "metadata": {},
   "source": [
    "## Ledoit & Wolf"
   ]
  },
  {
   "cell_type": "code",
   "execution_count": 9,
   "metadata": {
    "pycharm": {
     "name": "#%%\n"
    }
   },
   "outputs": [],
   "source": [
    "#Manu föreslår assume_centered = True, tveksamt om det funkar som intended dock\n",
    "#DENNA KÖR PÅ HELA INTERVALLET OCH TAR EJ HÄNSYN TILL span, span används för att sätta assume centered eller ej\n",
    "def Ledoit_Wolf(t,ass_centered):\n",
    "    R_Sigma = R.copy()\n",
    "    from sklearn.covariance import LedoitWolf  \n",
    "    \n",
    "    if t <= 5:\n",
    "        Sigma = np.dot(R_Sigma[t-1].reshape((N,1)),R_Sigma[t-1].reshape((1,N)))\n",
    "        return Sigma\n",
    "        \n",
    "    cov = LedoitWolf(assume_centered=ass_centered).fit(R_Sigma[0:t-1,:])\n",
    "\n",
    "    return cov.covariance_\n"
   ]
  },
  {
   "cell_type": "markdown",
   "metadata": {},
   "source": [
    "## Simple moving average\n",
    "$ SMA = \\frac{A^n_1+A^n_2+...+A^n_t}{T}$\n",
    "<br>Where $A^n_t =$ the return of the stock $n$ at period $t$\n",
    "<br> $T =$ number of periods\n"
   ]
  },
  {
   "cell_type": "code",
   "execution_count": 10,
   "metadata": {},
   "outputs": [],
   "source": [
    "def calcSMA(Tsma):\n",
    "    df_Rsma = Rpd.copy()\n",
    "\n",
    "    for col in Rpd.columns:\n",
    "        # to calculate first Tsma periods set min_periods = 1\n",
    "        # for instance the 2nd day then becomes the first days real value, 3rd day mean of 1st and 2nd real returns\n",
    "        df_Rsma[col] = Rpd[col].shift(1).rolling(Tsma, min_periods = 1).mean() # shift 1 to calc from yesterdays values\n",
    "    df_Rsma = df_Rsma.iloc[1:]\n",
    "    return df_Rsma.to_numpy()\n"
   ]
  },
  {
   "cell_type": "markdown",
   "metadata": {},
   "source": [
    "## Exponential Moving Average\n",
    "Exponential moving average gives more weight to the recent prices and as a result of which, it can be a better model or better capture the movement of the trend in a faster way. EMA's reaction is directly proportional to the pattern of the data.\n",
    "\n",
    "Let $\\alpha_{\\text{EMA}}\\in (0,1)$ and\n",
    "$$\n",
    "\\begin{align}\n",
    "    \\hat R_{t|t}^{\\text{EMA}} = \n",
    "    \\begin{cases}\n",
    "    R_{t-1},              & \\text{if } t = 2, \\\\\n",
    "    \\alpha_{\\text{EMA}} \\hat R_{t-1|t-1}^{\\text{EMA}} + (1 - \\alpha_{\\text{EMA}}) R_{t-1},              & \\text{if } 2 < t \\leq T.\n",
    "    \\end{cases}\n",
    "\\end{align}\n",
    "$$\n",
    "Often, a variable $\\tau_{\\text{EMA}}\\in\\mathbb{N}$ is introduced such that \n",
    "$$\n",
    "\\begin{align*}\n",
    "    \\alpha_{\\text{EMA}} = 1 - \\frac{1}{\\tau_{\\text{EMA}} + 1},\n",
    "\\end{align*}\n",
    "$$"
   ]
  },
  {
   "cell_type": "code",
   "execution_count": 11,
   "metadata": {},
   "outputs": [],
   "source": [
    "def calcEMA(span):\n",
    "    df_Rema = Rpd.copy()\n",
    "    for index in df_Rema.index[:T-1]:\n",
    "        if index <= 2:\n",
    "            df_Rema.iloc[index] = Rpd.iloc[index-1]\n",
    "        else:\n",
    "            df_Rema.iloc[index] = df_Rema.iloc[index-1].ewm(span=span,adjust=False).mean()\n",
    "            R_ewm = df_Rema.to_numpy()\n",
    "            \n",
    "    return R_ewm"
   ]
  },
  {
   "cell_type": "markdown",
   "metadata": {},
   "source": [
    "## Hyper optimization for SMA & SCM\n",
    "between 2010-2018"
   ]
  },
  {
   "cell_type": "code",
   "execution_count": null,
   "metadata": {},
   "outputs": [],
   "source": [
    "\n",
    "hyperDataFrameSMA = pd.DataFrame(columns=['Tsma','SigmaHyper','Gamma','Turnover','SharpeRatio'])\n",
    "\n",
    "for Tsma in np.logspace(1,5,num =4, base=2, dtype='int'):\n",
    "    print('TSma', Tsma)\n",
    "    for SigmaHyper in np.logspace(1,4,num =4, base=2, dtype='int'):\n",
    "        print('SigmaHyper', SigmaHyper)\n",
    "        for gamma in np.logspace(-1,11,num =7, base=2, dtype='float'): \n",
    "            totValueSMA, turnoverSMA, R_Psma, weightsSMA = loop_optimization(\n",
    "                calcSMA(Tsma), \n",
    "                covariance_calc_v1, \n",
    "                SigmaHyper,\n",
    "                gamma)\n",
    "            turnOver, sharpeR = hyperMetrics(totValueSMA, turnoverSMA, R_Psma)\n",
    "            hyperDataFrameSMA = hyperDataFrameSMA.append({'Tsma': Tsma, 'SigmaHyper': SigmaHyper, 'Gamma': gamma, 'Turnover': turnOver,'SharpeRatio': sharpeR}, ignore_index=True)\n",
    "\n",
    "hyperDataFrameSMA.head(100)\n",
    "hyperDataFrameSMA.to_pickle('./pickle_hyper/hyperDataFrameSMA_SCM.pkl')"
   ]
  },
  {
   "cell_type": "code",
   "execution_count": 17,
   "metadata": {},
   "outputs": [
    {
     "data": {
      "text/html": [
       "<div>\n",
       "<style scoped>\n",
       "    .dataframe tbody tr th:only-of-type {\n",
       "        vertical-align: middle;\n",
       "    }\n",
       "\n",
       "    .dataframe tbody tr th {\n",
       "        vertical-align: top;\n",
       "    }\n",
       "\n",
       "    .dataframe thead th {\n",
       "        text-align: right;\n",
       "    }\n",
       "</style>\n",
       "<table border=\"1\" class=\"dataframe\">\n",
       "  <thead>\n",
       "    <tr style=\"text-align: right;\">\n",
       "      <th></th>\n",
       "      <th>Tsma</th>\n",
       "      <th>SigmaHyper</th>\n",
       "      <th>Gamma</th>\n",
       "      <th>Turnover</th>\n",
       "      <th>SharpeRatio</th>\n",
       "    </tr>\n",
       "  </thead>\n",
       "  <tbody>\n",
       "    <tr>\n",
       "      <th>3</th>\n",
       "      <td>2.0</td>\n",
       "      <td>2.0</td>\n",
       "      <td>32.0</td>\n",
       "      <td>167.195557</td>\n",
       "      <td>0.006936</td>\n",
       "    </tr>\n",
       "    <tr>\n",
       "      <th>75</th>\n",
       "      <td>12.0</td>\n",
       "      <td>8.0</td>\n",
       "      <td>512.0</td>\n",
       "      <td>90.786767</td>\n",
       "      <td>0.045875</td>\n",
       "    </tr>\n",
       "    <tr>\n",
       "      <th>76</th>\n",
       "      <td>12.0</td>\n",
       "      <td>8.0</td>\n",
       "      <td>2048.0</td>\n",
       "      <td>87.619191</td>\n",
       "      <td>0.021370</td>\n",
       "    </tr>\n",
       "    <tr>\n",
       "      <th>102</th>\n",
       "      <td>32.0</td>\n",
       "      <td>8.0</td>\n",
       "      <td>128.0</td>\n",
       "      <td>75.558386</td>\n",
       "      <td>0.010463</td>\n",
       "    </tr>\n",
       "    <tr>\n",
       "      <th>103</th>\n",
       "      <td>32.0</td>\n",
       "      <td>8.0</td>\n",
       "      <td>512.0</td>\n",
       "      <td>82.137790</td>\n",
       "      <td>0.102309</td>\n",
       "    </tr>\n",
       "    <tr>\n",
       "      <th>104</th>\n",
       "      <td>32.0</td>\n",
       "      <td>8.0</td>\n",
       "      <td>2048.0</td>\n",
       "      <td>84.525233</td>\n",
       "      <td>0.118529</td>\n",
       "    </tr>\n",
       "  </tbody>\n",
       "</table>\n",
       "</div>"
      ],
      "text/plain": [
       "     Tsma  SigmaHyper   Gamma    Turnover  SharpeRatio\n",
       "3     2.0         2.0    32.0  167.195557     0.006936\n",
       "75   12.0         8.0   512.0   90.786767     0.045875\n",
       "76   12.0         8.0  2048.0   87.619191     0.021370\n",
       "102  32.0         8.0   128.0   75.558386     0.010463\n",
       "103  32.0         8.0   512.0   82.137790     0.102309\n",
       "104  32.0         8.0  2048.0   84.525233     0.118529"
      ]
     },
     "execution_count": 17,
     "metadata": {},
     "output_type": "execute_result"
    }
   ],
   "source": [
    "opSMApd = pd.read_pickle('./pickle_hyper/hyperDataFrameSMA_SCM.pkl')\n",
    "hyperDataSMAsort = opSMApd[(opSMApd['SharpeRatio'] > 0) ]\n",
    "hyperDataSMAsort"
   ]
  },
  {
   "cell_type": "markdown",
   "metadata": {},
   "source": [
    "## Hyper optimization for EMA and SCM\n",
    "between 2010-2018"
   ]
  },
  {
   "cell_type": "code",
   "execution_count": null,
   "metadata": {},
   "outputs": [],
   "source": [
    "hyperDataFrameEMA = pd.DataFrame(columns=['T_ema','SigmaHyper','Gamma','Turnover','SharpeRatio'])\n",
    "\n",
    "for T_ema in np.logspace(3,8, num =5, base=2, dtype='int'):\n",
    "    print('T_ema', T_ema)\n",
    "    for SigmaHyper in np.logspace(1,4,num =4, base=2, dtype='int'):\n",
    "        print('SigmaHyper', SigmaHyper)\n",
    "        for gamma in np.logspace(-1,11,num =7, base=2, dtype='float'): \n",
    "            totValueEMA, turnoverEMA, R_Pema, weightsEMA = loop_optimization(\n",
    "                calcEMA(T_ema), \n",
    "                covariance_calc_v1, \n",
    "                SigmaHyper,\n",
    "                gamma)\n",
    "            turnOver, sharpeR = hyperMetrics(totValueEMA, turnoverEMA, R_Pema)\n",
    "            hyperDataFrameEMA = hyperDataFrameEMA.append({'T_ema': T_ema, 'SigmaHyper': SigmaHyper, 'Gamma': gamma, \n",
    "                                                          'Turnover': turnOver,'SharpeRatio': sharpeR}, ignore_index=True)\n",
    "\n",
    "hyperDataFrameEMA.to_pickle('./pickle_hyper/hyperDataFrameEMA_SCM.pkl')"
   ]
  },
  {
   "cell_type": "code",
   "execution_count": null,
   "metadata": {},
   "outputs": [],
   "source": [
    "opEMApd = pd.read_pickle('./pickle_hyper/hyperDataFrameEMA_SCM.pkl')\n",
    "hyperDataEMAsort = opEMApd[(opEMApd['SharpeRatio'] > 0) & (opEMApd['Turnover'] < 82 )]\n",
    "opEMApd.head(30)"
   ]
  },
  {
   "cell_type": "markdown",
   "metadata": {},
   "source": [
    "## Hyper Optimization SMA & LW"
   ]
  },
  {
   "cell_type": "code",
   "execution_count": null,
   "metadata": {},
   "outputs": [],
   "source": [
    "hyperDataFrameSMA_LW = pd.DataFrame(columns=['TSma','SigmaHyper','Gamma','Turnover','SharpeRatio'])\n",
    "\n",
    "for TSma in np.logspace(3,8,num =4, base=2, dtype='int'): #4\n",
    "    print('TSma', TSma)\n",
    "    for SigmaHyper in range(0,2):\n",
    "        print('SigmaHyper', SigmaHyper)\n",
    "        if(SigmaHyper == 0):\n",
    "            SigmaHyper = False\n",
    "        if(SigmaHyper == 1):\n",
    "            SigmaHyper = True\n",
    "        for gamma in np.logspace(-1,11,num =7, base=2, dtype='float'): #7\n",
    "            totValueSMA, turnoverSMA, R_Psma, weightsSMA = loop_optimization(\n",
    "                calcSMA(TSma), \n",
    "                Ledoit_Wolf, \n",
    "                SigmaHyper,\n",
    "                gamma)\n",
    "            turnOver, sharpeR = hyperMetrics(totValueSMA, turnoverSMA, R_Psma)\n",
    "            hyperDataFrameSMA_LW = hyperDataFrameSMA_LW.append({'TSma': TSma, 'SigmaHyper': SigmaHyper, 'Gamma': gamma, 'Turnover': turnOver,'SharpeRatio': sharpeR}, ignore_index=True)\n",
    "\n",
    "hyperDataFrameSMA_LW.head()"
   ]
  },
  {
   "cell_type": "markdown",
   "metadata": {},
   "source": [
    "## Hyper Optimization EMA & LW"
   ]
  },
  {
   "cell_type": "code",
   "execution_count": null,
   "metadata": {},
   "outputs": [],
   "source": [
    "#EMA_LW\n",
    "\n",
    "hyperDataFrameEMA_LW = pd.DataFrame(columns=['Tema','SigmaHyper','Gamma','Turnover','SharpeRatio'])\n",
    "\n",
    "for Tema in np.logspace(3,8,num =4, base=2, dtype='int'): #4\n",
    "    print('Tema', Tema)\n",
    "    for SigmaHyper in range(0,2):\n",
    "        print('SigmaHyper', SigmaHyper)\n",
    "        if(SigmaHyper == 0):\n",
    "            SigmaHyper = False\n",
    "        if(SigmaHyper == 1):\n",
    "            SigmaHyper = True\n",
    "        for gamma in np.logspace(-1,11,num =7, base=2, dtype='float'): #7\n",
    "            totValueEMA, turnoverEMA, R_Pema, weightsEMA = loop_optimization(\n",
    "                calcEMA(Tema), \n",
    "                Ledoit_Wolf, \n",
    "                SigmaHyper,\n",
    "                gamma)\n",
    "            turnOver, sharpeR = hyperMetrics(totValueEMA, turnoverEMA, R_Pema)\n",
    "            hyperDataFrameEMA_LW = hyperDataFrameEMA_LW.append({'Tema': Tema, 'SigmaHyper': SigmaHyper, 'Gamma': gamma, 'Turnover': turnOver,'SharpeRatio': sharpeR}, ignore_index=True)\n",
    "\n",
    "hyperDataFrameEMA_LW.head()"
   ]
  },
  {
   "cell_type": "markdown",
   "metadata": {},
   "source": [
    "## LSTM\n",
    "LSTMs are widely used for sequence prediction problems and have proven to be extremely effective. The reason they work so well is because LSTM is able to store past information that is important, and forget the information that is not. "
   ]
  },
  {
   "cell_type": "code",
   "execution_count": null,
   "metadata": {},
   "outputs": [],
   "source": [
    "def predictLSTM(model, stock, iterDays, sc):\n",
    "# vill uppdatera LSTM datan ofta för att få bra prediktion typ rullande varje dag\n",
    "    #trYrs = len(R)-30;\n",
    "    \n",
    "    # make predictions 1 day at a time\n",
    "    predDays = 1\n",
    "    #day_of_pred = trYrs+iterDays\n",
    "    # retrieve last observations for input data and feed with known days continously\n",
    "    inputs = stock\n",
    "    # reshape into [1, input, 1]\n",
    "    inputs = inputs.reshape(-1,1)\n",
    "    inputs  = sc.transform(inputs)\n",
    "    inputs = inputs.reshape((1,len(inputs),1))\n",
    "    #print(inputs)\n",
    "    \n",
    "    '''\n",
    "    X_test = []  \n",
    "\n",
    "    # predict next 5 days\n",
    "    for i in range(predDays,len(inputs)):\n",
    "        X_test.append(inputs[i-predDays:i,0])\n",
    "        \n",
    "    X_test = np.array(X_test)\n",
    "    X_test = np.reshape(X_test, (X_test.shape[0],X_test.shape[1],1))\n",
    "\n",
    "    print(np.shape(X_test))'''\n",
    "\n",
    "\n",
    "    rets_pred = model.predict(inputs,verbose=1) \n",
    "\n",
    "    rets_pred = sc.inverse_transform(rets_pred)\n",
    "\n",
    "\n",
    "    \n",
    "    return rets_pred"
   ]
  },
  {
   "cell_type": "markdown",
   "metadata": {},
   "source": [
    "vill uppdatera LSTM datan ofta för att få bra prediktion typ rullande varje dag\n",
    "\n",
    "Run data and create models for each of the stocks\n",
    "\n",
    "ändra successivt historiken av data som matas till predictLSTM med 1 dag"
   ]
  },
  {
   "cell_type": "code",
   "execution_count": null,
   "metadata": {},
   "outputs": [],
   "source": [
    "from tensorflow import keras\n",
    "from sklearn.preprocessing import MinMaxScaler\n",
    "# glöm inte ändra investpy range från 2016-2018\n",
    "# load LSTM models from Data/keras_models\n",
    "os.chdir(os.path.pardir)\n",
    "%cd Data\n",
    "\n",
    "ndaysPred = len(R)\n",
    "dfLSTM = pd.DataFrame(np.zeros((ndaysPred, N)))\n",
    "predValue = 0\n",
    "\n",
    "# loop over the stocks denna tar typ 20-30 min för alla stocks\n",
    "for stock in range (N):\n",
    "    # load saved model for stock\n",
    "    model = keras.models.load_model('keras_models/model_2010_2016_'+str(stock))\n",
    "    # load saved scaler\n",
    "    sc = pickle.load(open('scaler.pkl'+str(stock),'rb'))\n",
    "    print(stock) # to see progress\n",
    "    \n",
    "    #create prediction for ndaysPred for that stock\n",
    "    for day in range (1,ndaysPred): \n",
    "        # save historical data for model as previous day\n",
    "        stockHist = Rpd.iloc[day-1,stock]\n",
    "        # predict next day's return\n",
    "        predValue = predictLSTM(model, stockHist, day, sc)\n",
    "        # save to R_hat vect\n",
    "        dfLSTM.iloc[day,stock] = predValue\n",
    "        \n",
    "dfLSTM.to_pickle('./pickle_hyper/R_lstm_2018_2020.pkl')"
   ]
  },
  {
   "cell_type": "code",
   "execution_count": null,
   "metadata": {},
   "outputs": [],
   "source": [
    "totValueSMA, turnoverSMA, R_Psma, weightsSMA = loop_optimization(dfR_LSTM.to_numpy(), covariance_calc_v1)\n",
    "#print(R_Psma)\n",
    "plot_n_printPortfolio(totValueSMA, turnoverSMA, R_Psma, 'LSTM Predicted Portfolio')"
   ]
  },
  {
   "cell_type": "markdown",
   "metadata": {},
   "source": [
    "## Hyper Optimization LSTM & SCM"
   ]
  },
  {
   "cell_type": "code",
   "execution_count": null,
   "metadata": {},
   "outputs": [],
   "source": [
    "# Viewing the LSTM model as fixed, since we don't have the required computing power \n",
    "# to hyper optimize the parameters for LSTM\n",
    "R_LSTM = pd.read_pickle('./pickle_hyper/R_lstm_2016_2018.pkl').to_numpy()\n",
    "\n",
    "hyperDataFrameLSTM_SCM = pd.DataFrame(columns=['T_SCM','Gamma','Turnover','SharpeRatio'])\n",
    "\n",
    "for SigmaHyper in np.logspace(1,4,num =4, base=2, dtype='int'):\n",
    "    print('SigmaHyper', SigmaHyper)\n",
    "    for gamma in np.logspace(-1,11,num =7, base=2, dtype='float'): #7\n",
    "        totValueSMA, turnoverSMA, R_Psma, weightsSMA = loop_optimization(\n",
    "            R_LSTM, \n",
    "            covariance_calc_v1, \n",
    "            SigmaHyper,\n",
    "            gamma)\n",
    "        turnOver, sharpeR = hyperMetrics(totValueSMA, turnoverSMA, R_Psma)\n",
    "        hyperDataFrameLSTM_SCM = hyperDataFrameLSTM_SCM.append({'T_SCM': SigmaHyper, 'Gamma': gamma, 'Turnover': turnOver,'SharpeRatio': sharpeR}, ignore_index=True)\n",
    "\n",
    "hyperDataFrameLSTM_SCM.to_pickle('./pickle_hyper/hyperDataFrameLSTM_SCM.pkl')"
   ]
  },
  {
   "cell_type": "code",
   "execution_count": null,
   "metadata": {},
   "outputs": [],
   "source": [
    "opLSTM_SCMpd = pd.read_pickle('./pickle_hyper/hyperDataFrameLSTM_SCM.pkl')\n",
    "hyperDataLSTM_SCMsort = opLSTM_SCMpd[(opLSTM_SCMpd['SharpeRatio'] > 0) & (opLSTM_SCMpd['Turnover'] < 82 )]\n",
    "hyperDataLSTM_SCMsort\n"
   ]
  },
  {
   "cell_type": "markdown",
   "metadata": {},
   "source": [
    "## Hyper optimization LSTM & LW"
   ]
  },
  {
   "cell_type": "code",
   "execution_count": null,
   "metadata": {
    "scrolled": true
   },
   "outputs": [],
   "source": [
    "# Viewing the LSTM model as fixed, since we don't have the required computing power \n",
    "# to hyper optimize the parameters for LSTM\n",
    "R_LSTM = pd.read_pickle('./pickle_hyper/R_lstm_2016_2018.pkl').to_numpy()\n",
    "\n",
    "hyperDataFrameLSTM_LW = pd.DataFrame(columns=['SigmaHyper','Gamma','Turnover','SharpeRatio'])\n",
    "\n",
    "for SigmaHyper in range(0,2):\n",
    "    print('SigmaHyper', SigmaHyper)\n",
    "    if(SigmaHyper == 0):\n",
    "        SigmaHyper = False\n",
    "    if(SigmaHyper == 1):\n",
    "        SigmaHyper = True\n",
    "    for gamma in np.logspace(-1,11,num =7, base=2, dtype='float'): #7\n",
    "        totValueSMA, turnoverSMA, R_Psma, weightsSMA = loop_optimization(\n",
    "                R_LSTM, \n",
    "                Ledoit_Wolf, \n",
    "                SigmaHyper,\n",
    "                gamma)\n",
    "        turnOver, sharpeR = hyperMetrics(totValueSMA, turnoverSMA, R_Psma)\n",
    "        hyperDataFrameLSTM_LW = hyperDataFrameLSTM_LW.append({'SigmaHyper': SigmaHyper, 'Gamma': gamma, 'Turnover': turnOver,'SharpeRatio': sharpeR}, ignore_index=True)\n",
    "\n",
    "\n",
    "hyperDataFrameLSTM_LW.to_pickle('./pickle_hyper/hyperDataFrameLSTM_LW.pkl')"
   ]
  },
  {
   "cell_type": "code",
   "execution_count": null,
   "metadata": {},
   "outputs": [],
   "source": [
    "opLSTM_LWpd = pd.read_pickle('./pickle_hyper/hyperDataFrameLSTM_LW.pkl')\n",
    "hyperDataLSTM_LWsort = opLSTM_LWpd[(opLSTM_LWpd['SharpeRatio'] > -0.55)]\n",
    "hyperDataLSTM_LWsort\n"
   ]
  },
  {
   "cell_type": "markdown",
   "metadata": {},
   "source": [
    "## Validation of selected hyperparameters\n",
    "### SMA & SCM\n",
    "Best performance 2010-2018 for T_SMA = 32.0, T_SCM = 8.0, Gamma = 512.0\t\n",
    "gave turnover = 82.137790,\tSR = 0.102309"
   ]
  },
  {
   "cell_type": "code",
   "execution_count": 12,
   "metadata": {},
   "outputs": [],
   "source": [
    "# weird bug with R vector. Only for this computer\n",
    "# Has a value of 9 when using date 2018-2020, replace this value with the value from day before\n",
    "\n",
    "Rpd.iloc[311,-4] = Rpd.iloc[310,-4]"
   ]
  },
  {
   "cell_type": "code",
   "execution_count": 13,
   "metadata": {},
   "outputs": [
    {
     "name": "stdout",
     "output_type": "stream",
     "text": [
      "\u001b[1mSMA & SCM Predicted Portfolio\u001b[0m\n",
      "Turnover: 81.214336\n",
      "Total value of portfolio: 882678.0\n",
      "Sharpe Ratio: -0.331464\n",
      "Weights at end of period [0.     0.0813 0.     0.     0.     0.     0.1428 0.     0.1222 0.\n",
      " 0.2991 0.0416 0.     0.     0.0583 0.     0.     0.0849 0.     0.0604\n",
      " 0.     0.     0.     0.     0.     0.0839 0.     0.0256]\n"
     ]
    },
    {
     "data": {
      "image/png": "[encoded data removed]",
      "text/plain": [
       "<Figure size 432x288 with 1 Axes>"
      ]
     },
     "metadata": {
      "needs_background": "light"
     },
     "output_type": "display_data"
    }
   ],
   "source": [
    "totValueSMA_SCM, turnoverSMA_SCM, R_Psma_scm, w = loop_optimization(calcSMA(32),covariance_calc_v1, 8, 512)\n",
    "\n",
    "plot_n_printPortfolio(totValueSMA_SCM, turnoverSMA_SCM, R_Psma_scm, 'SMA & SCM Predicted Portfolio', w)"
   ]
  },
  {
   "cell_type": "markdown",
   "metadata": {},
   "source": [
    "### EMA & SCM\n",
    "Best performance from 2010-2018 for T_ema = 8.0,\tT_scm = 8.0, Gamma = 2.0\t\n",
    "gave turnover = 81.548874, SR = 0.315238"
   ]
  },
  {
   "cell_type": "code",
   "execution_count": 14,
   "metadata": {
    "scrolled": false
   },
   "outputs": [
    {
     "name": "stdout",
     "output_type": "stream",
     "text": [
      "\u001b[1mEMA & SCM Predicted Portfolio\u001b[0m\n",
      "Turnover: 81.978917\n",
      "Total value of portfolio: 1046026.0\n",
      "Sharpe Ratio: 0.225031\n",
      "Weights at end of period [0.003  0.2054 0.002  0.0007 0.0006 0.0007 0.0027 0.0034 0.1287 0.0009\n",
      " 0.2974 0.0336 0.0006 0.0005 0.0966 0.0005 0.0005 0.0011 0.0003 0.0009\n",
      " 0.0006 0.001  0.001  0.0005 0.0035 0.1189 0.0009 0.0935]\n"
     ]
    },
    {
     "data": {
      "image/png": "[encoded data removed]",
      "text/plain": [
       "<Figure size 432x288 with 1 Axes>"
      ]
     },
     "metadata": {
      "needs_background": "light"
     },
     "output_type": "display_data"
    }
   ],
   "source": [
    "totValueEMA_SCM, turnoverEMA_SCM, R_Pema_scm, w = loop_optimization(calcEMA(8),\n",
    "                                                                 covariance_calc_v1,\n",
    "                                                                 SigmaHyper = 8,\n",
    "                                                                 gamma = 2)\n",
    "\n",
    "plot_n_printPortfolio(totValueEMA_SCM, turnoverEMA_SCM, R_Pema_scm, 'EMA & SCM Predicted Portfolio',w)"
   ]
  },
  {
   "cell_type": "markdown",
   "metadata": {},
   "source": [
    "### SMA & LW"
   ]
  },
  {
   "cell_type": "code",
   "execution_count": 18,
   "metadata": {},
   "outputs": [
    {
     "name": "stdout",
     "output_type": "stream",
     "text": [
      "\u001b[1mSMA & LW Predicted Portfolio\u001b[0m\n",
      "Turnover: 14.517943\n",
      "Total value of portfolio: 910052.0\n",
      "Sharpe Ratio: -0.087018\n",
      "Weights at end of period [0.     0.     0.     0.     0.     0.     0.0093 0.     0.     0.\n",
      " 0.0134 0.2995 0.     0.1996 0.0409 0.0611 0.     0.     0.0634 0.0093\n",
      " 0.     0.     0.0447 0.1965 0.     0.     0.0622 0.    ]\n"
     ]
    },
    {
     "data": {
      "image/png": "[encoded data removed]",
      "text/plain": [
       "<Figure size 432x288 with 1 Axes>"
      ]
     },
     "metadata": {
      "needs_background": "light"
     },
     "output_type": "display_data"
    }
   ],
   "source": [
    "totValueSMA_LW, turnover, R_P, weights = loop_optimization(calcSMA(256), Ledoit_Wolf,True,2)\n",
    "plot_n_printPortfolio(totValue, turnover, R_P, 'SMA & LW Predicted Portfolio', weights)"
   ]
  },
  {
   "cell_type": "markdown",
   "metadata": {},
   "source": [
    "### EMA & LW"
   ]
  },
  {
   "cell_type": "code",
   "execution_count": 21,
   "metadata": {},
   "outputs": [
    {
     "name": "stdout",
     "output_type": "stream",
     "text": [
      "\u001b[1mEMA & LW Predicted Portfolio\u001b[0m\n",
      "Turnover: 6.210015\n",
      "Total value of portfolio: 1064537.0\n",
      "Sharpe Ratio: 0.304423\n",
      "Weights at end of period [1.000e-03 4.000e-04 1.117e-01 1.627e-01 1.000e-04 1.000e-04 6.000e-04\n",
      " 2.500e-03 2.150e-02 9.800e-03 4.340e-02 1.570e-02 6.000e-04 7.000e-04\n",
      " 1.000e-04 2.190e-02 1.000e-04 8.000e-04 3.670e-02 1.126e-01 2.100e-02\n",
      " 1.000e-04 9.110e-02 4.080e-02 7.180e-02 7.810e-02 1.540e-01 1.000e-04]\n"
     ]
    },
    {
     "data": {
      "image/png": "[encoded data removed]",
      "text/plain": [
       "<Figure size 432x288 with 1 Axes>"
      ]
     },
     "metadata": {
      "needs_background": "light"
     },
     "output_type": "display_data"
    }
   ],
   "source": [
    "# optimal parameters test run from 2018-2020\n",
    "\n",
    "totValue, turnover, R_P, weights = loop_optimization(calcEMA(8), Ledoit_Wolf,True,0.5)\n",
    "plot_n_printPortfolio(totValue, turnover, R_P, 'EMA & LW Predicted Portfolio', weights)"
   ]
  },
  {
   "cell_type": "markdown",
   "metadata": {},
   "source": [
    "### LSTM & SCM\n",
    "Best performance from 2016-2018 for T_scm = 8.0, Gamma = 512.0,\n",
    "    gave turnover = 67.623572, SR = 0.285660"
   ]
  },
  {
   "cell_type": "code",
   "execution_count": 16,
   "metadata": {},
   "outputs": [
    {
     "name": "stdout",
     "output_type": "stream",
     "text": [
      "\u001b[1mLSTM & SCM Predicted Portfolio\u001b[0m\n",
      "Turnover: 67.424841\n",
      "Total value of portfolio: 1111156.0\n",
      "Sharpe Ratio: 0.433781\n",
      "Weights at end of period [0.     0.2408 0.     0.0235 0.     0.     0.     0.     0.1181 0.\n",
      " 0.2986 0.     0.     0.     0.0327 0.     0.     0.0688 0.     0.\n",
      " 0.     0.     0.1971 0.     0.     0.0203 0.     0.    ]\n"
     ]
    },
    {
     "data": {
      "image/png": "[encoded data removed]",
      "text/plain": [
       "<Figure size 432x288 with 1 Axes>"
      ]
     },
     "metadata": {
      "needs_background": "light"
     },
     "output_type": "display_data"
    }
   ],
   "source": [
    "R_lstm2018_20 = pd.read_pickle('./pickle_hyper/R_lstm_2018_2020.pkl').to_numpy()\n",
    "\n",
    "totValueLSTM_SCM, turnoverLSTM_SCM, R_Plstm_scm, w = loop_optimization(R_lstm2018_20,\n",
    "                                                                 covariance_calc_v1,\n",
    "                                                                 SigmaHyper = 8,\n",
    "                                                                 gamma = 512)\n",
    "\n",
    "plot_n_printPortfolio(totValueLSTM_SCM, turnoverLSTM_SCM, R_Plstm_scm, 'LSTM & SCM Predicted Portfolio', w)"
   ]
  },
  {
   "cell_type": "markdown",
   "metadata": {},
   "source": [
    "### LSTM & LW\n",
    "Best performance from 2016-2018 for SigmaHyper = True, Gamma = 8.0,\n",
    "    gave turnover = 24.546262,\tSR = -0.520952"
   ]
  },
  {
   "cell_type": "code",
   "execution_count": 17,
   "metadata": {},
   "outputs": [
    {
     "name": "stdout",
     "output_type": "stream",
     "text": [
      "\u001b[1mLSTM & LW Predicted Portfolio\u001b[0m\n",
      "Turnover: 20.373836\n",
      "Total value of portfolio: 1077175.0\n",
      "Sharpe Ratio: 0.326887\n",
      "Weights at end of period [0.0284 0.0297 0.     0.0328 0.0343 0.0054 0.0479 0.     0.     0.0093\n",
      " 0.0357 0.0041 0.0277 0.0144 0.0005 0.0266 0.0256 0.0617 0.0198 0.0287\n",
      " 0.0456 0.004  0.3014 0.0286 0.0238 0.0388 0.0698 0.0555]\n"
     ]
    },
    {
     "data": {
      "image/png": "[encoded data removed]",
      "text/plain": [
       "<Figure size 432x288 with 1 Axes>"
      ]
     },
     "metadata": {
      "needs_background": "light"
     },
     "output_type": "display_data"
    }
   ],
   "source": [
    "R_lstm2018_20 = pd.read_pickle('./pickle_hyper/R_lstm_2018_2020.pkl').to_numpy()\n",
    "\n",
    "totValueLSTM_LW, turnoverLSTM_LW, R_Plstm_lw, w = loop_optimization(R_lstm2018_20,\n",
    "                                                                 Ledoit_Wolf,\n",
    "                                                                 SigmaHyper = True,\n",
    "                                                                 gamma = 8)\n",
    "\n",
    "plot_n_printPortfolio(totValueLSTM_LW, turnoverLSTM_LW, R_Plstm_lw, 'LSTM & LW Predicted Portfolio', w)"
   ]
  },
  {
   "cell_type": "code",
   "execution_count": 20,
   "metadata": {},
   "outputs": [],
   "source": [
    "plotLSTM_LW = pd.DataFrame(totValueLSTM_LW)\n",
    "plotLSTM_SCM = pd.DataFrame(totValueLSTM_SCM)\n",
    "plotSMA_SCM = pd.DataFrame(totValueSMA_SCM)\n",
    "\n",
    "\n",
    "plotLSTM_LW.to_pickle('./pickle_graphs/totValueLSTM_LW.pkl')\n",
    "plotLSTM_SCM.to_pickle('./pickle_graphs/totValueLSTM_SCM.pkl')\n",
    "plotSMA_SCM.to_pickle('./pickle_graphs/totValueSMA_SCM.pkl')"
   ]
  }
 ],
 "metadata": {
  "kernelspec": {
   "display_name": "Python 3",
   "language": "python",
   "name": "python3"
  },
  "language_info": {
   "codemirror_mode": {
    "name": "ipython",
    "version": 3
   },
   "file_extension": ".py",
   "mimetype": "text/x-python",
   "name": "python",
   "nbconvert_exporter": "python",
   "pygments_lexer": "ipython3",
   "version": "3.7.3"
  }
 },
 "nbformat": 4,
 "nbformat_minor": 4
}
