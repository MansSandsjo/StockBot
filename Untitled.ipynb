{
 "cells": [
  {
   "cell_type": "code",
   "execution_count": 9,
   "metadata": {},
   "outputs": [
    {
     "name": "stdout",
     "output_type": "stream",
     "text": [
      "            Open  High   Low  Close     Volume Currency\n",
      "Date                                                   \n",
      "2010-01-04  7.62  7.66  7.58   7.64  493728704      USD\n",
      "2010-01-05  7.66  7.70  7.62   7.66  601904640      USD\n",
      "2010-01-06  7.66  7.69  7.53   7.53  552158912      USD\n",
      "2010-01-07  7.56  7.57  7.47   7.52  477129760      USD\n",
      "2010-01-08  7.51  7.57  7.47   7.57  447876768      USD\n"
     ]
    }
   ],
   "source": [
    "import investpy\n",
    "\n",
    "df = investpy.get_stock_historical_data(stock='AAPL',\n",
    "                                        country='United States',\n",
    "                                        from_date='01/01/2010',\n",
    "                                        to_date='01/01/2020')\n",
    "print(df.head())"
   ]
  },
  {
   "cell_type": "code",
   "execution_count": null,
   "metadata": {},
   "outputs": [],
   "source": []
  }
 ],
 "metadata": {
  "kernelspec": {
   "display_name": "Python 3",
   "language": "python",
   "name": "python3"
  },
  "language_info": {
   "codemirror_mode": {
    "name": "ipython",
    "version": 3
   },
   "file_extension": ".py",
   "mimetype": "text/x-python",
   "name": "python",
   "nbconvert_exporter": "python",
   "pygments_lexer": "ipython3",
   "version": "3.7.3"
  }
 },
 "nbformat": 4,
 "nbformat_minor": 2
}
